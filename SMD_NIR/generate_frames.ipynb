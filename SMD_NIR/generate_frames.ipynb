{
 "cells": [
  {
   "cell_type": "code",
   "execution_count": 1,
   "metadata": {},
   "outputs": [],
   "source": [
    "from scipy.io import loadmat\n",
    "from os import listdir\n",
    "from os.path import isfile, join\n",
    "import os\n",
    "import cv2\n",
    "import matplotlib.pyplot as plt\n",
    "import matplotlib.patches as patches\n",
    "from PIL import Image\n",
    "import numpy as np"
   ]
  },
  {
   "cell_type": "code",
   "execution_count": 39,
   "metadata": {},
   "outputs": [],
   "source": [
    "VIDEOS_PATH_NIR = \"NIR/NIR/Videos\"\n",
    "OBJECT_ANNOTATIONS_NIR_PATH = \"NIR/NIR/ObjectGT\"\n",
    "VIDEO_FRAMES_PATH_NIR = '/home/fyp3/Desktop/Batch18/Obj_Track/SMD_NIR/train/'\n"
   ]
  },
  {
   "cell_type": "code",
   "execution_count": 7,
   "metadata": {},
   "outputs": [],
   "source": [
    "video_files_nir = [join(VIDEOS_PATH_NIR, f) for f in listdir(VIDEOS_PATH_NIR) \n",
    "                       if isfile(join(VIDEOS_PATH_NIR, f))]"
   ]
  },
  {
   "cell_type": "code",
   "execution_count": 8,
   "metadata": {},
   "outputs": [],
   "source": [
    "video_files_nir_dict = {}\n",
    "for f in listdir(VIDEOS_PATH_NIR):\n",
    "    if isfile(join(VIDEOS_PATH_NIR, f)):\n",
    "        video_files_nir_dict[f.split('.')[0]] = join(VIDEOS_PATH_NIR, f)"
   ]
  },
  {
   "cell_type": "code",
   "execution_count": 9,
   "metadata": {},
   "outputs": [],
   "source": [
    "object_gt_files_nir_dict = {}\n",
    "for f in listdir(OBJECT_ANNOTATIONS_NIR_PATH):\n",
    "    if isfile(join(OBJECT_ANNOTATIONS_NIR_PATH, f)):\n",
    "        object_gt_files_nir_dict[f.split('.')[0].replace('_ObjectGT','')] = join(OBJECT_ANNOTATIONS_NIR_PATH, f)"
   ]
  },
  {
   "cell_type": "code",
   "execution_count": 10,
   "metadata": {},
   "outputs": [
    {
     "name": "stdout",
     "output_type": "stream",
     "text": [
      "Number of near infra-red videos:  31\n",
      "Number of near infra-red ground truth files:  23\n"
     ]
    }
   ],
   "source": [
    "print('Number of near infra-red videos: ', len(video_files_nir_dict))\n",
    "print('Number of near infra-red ground truth files: ', len(object_gt_files_nir_dict))"
   ]
  },
  {
   "cell_type": "code",
   "execution_count": 12,
   "metadata": {},
   "outputs": [
    {
     "name": "stdout",
     "output_type": "stream",
     "text": [
      "Unlabelled nir videos:  ['MVI_1475_NIR', 'MVI_1474_NIR', 'MVI_1478_NIR', 'MVI_1480_NIR', 'generate_frames', 'MVI_1481_NIR', 'MVI_1483_NIR', 'MVI_1484_NIR']\n",
      "\n",
      "Size of video dictionaries after removing the videos without ground truth:\n",
      "Number of near infra-red videos:  23\n",
      "Number of near infra-red ground truth files:  23\n"
     ]
    }
   ],
   "source": [
    "missing_files_nir = []\n",
    "for key in video_files_nir_dict.keys():\n",
    "    if key not in object_gt_files_nir_dict:\n",
    "        missing_files_nir.append(key)\n",
    "        \n",
    "print(\"Unlabelled nir videos: \", missing_files_nir)\n",
    "\n",
    "\n",
    "# set whether to remove or not the missing videos from the frames generation later\n",
    "remove_missing_files = True\n",
    "if remove_missing_files:\n",
    "    for key in missing_files_nir:\n",
    "        del video_files_nir_dict[key]\n",
    "        \n",
    "    print()\n",
    "    print('Size of video dictionaries after removing the videos without ground truth:')\n",
    "\n",
    "    print('Number of near infra-red videos: ', len(video_files_nir_dict))\n",
    "    print('Number of near infra-red ground truth files: ', len(object_gt_files_nir_dict))"
   ]
  },
  {
   "cell_type": "code",
   "execution_count": 13,
   "metadata": {},
   "outputs": [
    {
     "name": "stdout",
     "output_type": "stream",
     "text": [
      "Derived 600 frames\n",
      "Derived 274 frames\n",
      "Derived 600 frames\n",
      "Derived 317 frames\n",
      "Derived 799 frames\n",
      "Derived 534 frames\n",
      "Derived 601 frames\n",
      "Derived 600 frames\n",
      "Derived 541 frames\n",
      "Derived 262 frames\n",
      "Derived 440 frames\n",
      "Derived 349 frames\n",
      "Derived 295 frames\n",
      "Derived 600 frames\n",
      "Derived 520 frames\n",
      "Derived 497 frames\n",
      "Derived 579 frames\n",
      "Derived 508 frames\n",
      "Derived 417 frames\n",
      "Derived 566 frames\n",
      "Derived 478 frames\n",
      "Derived 602 frames\n",
      "Derived 307 frames\n"
     ]
    }
   ],
   "source": [
    "for video_key in video_files_nir_dict:\n",
    "    #video_name = 'MVI_1478_VIS'\n",
    "    vidcap = cv2.VideoCapture(video_files_nir_dict.get(video_key))\n",
    "    success,image = vidcap.read()\n",
    "    count = 0\n",
    "    success = True\n",
    "    while success:\n",
    "      cv2.imwrite(VIDEO_FRAMES_PATH_NIR + video_key + \"_frame%d.jpg\" % count, image)     # save frame as JPEG file\n",
    "      success,image = vidcap.read()\n",
    "      #print('Read a new frame: ', success)\n",
    "      count += 1\n",
    "    print(\"Derived %d frames\" % count)"
   ]
  },
  {
   "cell_type": "code",
   "execution_count": 14,
   "metadata": {},
   "outputs": [],
   "source": [
    "SEPARATE_FOLDERS = False"
   ]
  },
  {
   "cell_type": "code",
   "execution_count": 15,
   "metadata": {},
   "outputs": [],
   "source": [
    "TRAIN_PATH = './train'\n",
    "TEST_PATH = './test'\n",
    "VIDEO_FRAMES_FOLDER_NAME_NIR = 'VIS_NIR'\n",
    "\n",
    "\n",
    "folder_names = [TRAIN_PATH, TEST_PATH]\n",
    "\n",
    "# first create the folders if they don't exist\n",
    "for folder_name in folder_names:\n",
    "    if not (os.path.isdir(folder_name)):\n",
    "        os.mkdir(folder_name)"
   ]
  },
  {
   "cell_type": "code",
   "execution_count": 33,
   "metadata": {},
   "outputs": [],
   "source": [
    "def convert_videos_to_frames(video_dict, paths, frame_space=5, train_test_split=0.7):\n",
    "    \"\"\"\n",
    "    Helper function to convert any video frames into jpg images and split them into training and test dataset.\n",
    "    \n",
    "    Parameters\n",
    "    ----------\n",
    "    \n",
    "    video_dict : dictionary in the form :\n",
    "    \n",
    "    paths : tuple of the training and test paths to save the images. If both a set to the same path\n",
    "            then all the generated frames will be place in this (same) directory.\n",
    "            \n",
    "    frame_space : the space between the generated frames. Default is 5.\n",
    "    \n",
    "    train_test_split : the ration to split the frames into train and test datasets. Default is 0.7\n",
    "    \"\"\"\n",
    "    train_path = paths[0]\n",
    "    test_path = paths[1]\n",
    "    for video_key in video_dict:\n",
    "        vidcap = cv2.VideoCapture(video_dict.get(video_key))\n",
    "        \n",
    "        # get total frames of video\n",
    "        total_frames = int(vidcap.get(cv2.CAP_PROP_FRAME_COUNT))\n",
    "        \n",
    "        success,image = vidcap.read()\n",
    "        count = 0\n",
    "        frame_count = 0\n",
    "        success = True\n",
    "        while success:\n",
    "            if count % frame_space == 0:\n",
    "                if (count <= train_test_split*total_frames):\n",
    "                    cv2.imwrite(join(train_path, video_key) + \"_frame%d.jpg\" % count, image)     # save frame as JPEG file\n",
    "                else:\n",
    "                    cv2.imwrite(join(test_path, video_key) + \"_frame%d.jpg\" % count, image)\n",
    "                frame_count += 1\n",
    "            success,image = vidcap.read()\n",
    "            #print('Read a new frame: ', success)\n",
    "            count += 1\n",
    "        print(\"Derived %d frames\" % frame_count)"
   ]
  },
  {
   "cell_type": "code",
   "execution_count": 34,
   "metadata": {},
   "outputs": [
    {
     "name": "stdout",
     "output_type": "stream",
     "text": [
      "Derived 120 frames\n",
      "Derived 55 frames\n",
      "Derived 120 frames\n",
      "Derived 64 frames\n",
      "Derived 160 frames\n",
      "Derived 107 frames\n",
      "Derived 121 frames\n",
      "Derived 120 frames\n",
      "Derived 109 frames\n",
      "Derived 53 frames\n",
      "Derived 88 frames\n",
      "Derived 70 frames\n",
      "Derived 59 frames\n",
      "Derived 120 frames\n",
      "Derived 104 frames\n",
      "Derived 100 frames\n",
      "Derived 116 frames\n",
      "Derived 102 frames\n",
      "Derived 84 frames\n",
      "Derived 114 frames\n",
      "Derived 96 frames\n",
      "Derived 121 frames\n",
      "Derived 62 frames\n"
     ]
    }
   ],
   "source": [
    "\n",
    "convert_videos_to_frames(video_files_nir_dict, [TRAIN_PATH, TEST_PATH])"
   ]
  },
  {
   "cell_type": "code",
   "execution_count": 41,
   "metadata": {},
   "outputs": [],
   "source": [
    "video_name = 'MVI_1520_NIR'\n",
    "\n",
    "objects_nir = []\n",
    "with open(\"objects_nir.txt\") as f:\n",
    "    for line in f: \n",
    "        line = line.strip()\n",
    "        objects_nir.append(line)"
   ]
  },
  {
   "cell_type": "code",
   "execution_count": 42,
   "metadata": {},
   "outputs": [],
   "source": [
    "frame = '0'\n",
    "relevant_objects = [i for i in objects_nir if i.startswith(video_name + '_frame' + frame)]"
   ]
  },
  {
   "cell_type": "code",
   "execution_count": 43,
   "metadata": {},
   "outputs": [
    {
     "name": "stdout",
     "output_type": "stream",
     "text": [
      "/home/fyp3/Desktop/Batch18/Obj_Track/SMD_NIR/train/\n"
     ]
    },
    {
     "data": {
      "image/png": "[encoded data removed]",
      "text/plain": [
       "<Figure size 432x288 with 1 Axes>"
      ]
     },
     "metadata": {
      "needs_background": "light"
     },
     "output_type": "display_data"
    }
   ],
   "source": [
    "print(VIDEO_FRAMES_PATH_NIR)\n",
    "im = np.array(Image.open(VIDEO_FRAMES_PATH_NIR + video_name +'_frame'+frame +\".jpg\"), dtype=np.uint8)\n",
    "\n",
    "# Create figure and axes\n",
    "fig,ax = plt.subplots(1)\n",
    "\n",
    "# Display the image\n",
    "ax.imshow(im)\n",
    "\n",
    "# for every object in frame crate a rectangle patch\n",
    "for entry in relevant_objects:\n",
    "    data = entry.split(',')\n",
    "\n",
    "    # Create a Rectangle patch\n",
    "    rect = patches.Rectangle((float(data[1]),float(data[2])),float(data[3]),float(data[4]),linewidth=1,edgecolor='r',facecolor='none')\n",
    "\n",
    "    # Add the patch to the Axes\n",
    "    ax.add_patch(rect)\n",
    "\n",
    "plt.show()"
   ]
  },
  {
   "cell_type": "code",
   "execution_count": null,
   "metadata": {},
   "outputs": [],
   "source": []
  }
 ],
 "metadata": {
  "kernelspec": {
   "display_name": "Python 3.9.7 ('b17_depth_fusionnet')",
   "language": "python",
   "name": "python3"
  },
  "language_info": {
   "codemirror_mode": {
    "name": "ipython",
    "version": 3
   },
   "file_extension": ".py",
   "mimetype": "text/x-python",
   "name": "python",
   "nbconvert_exporter": "python",
   "pygments_lexer": "ipython3",
   "version": "3.9.7"
  },
  "orig_nbformat": 4,
  "vscode": {
   "interpreter": {
    "hash": "9b831a061845b743d92b64295ede38b70be4fb98890cac7a51068f420b44d36d"
   }
  }
 },
 "nbformat": 4,
 "nbformat_minor": 2
}
